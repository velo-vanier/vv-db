{
 "cells": [
  {
   "cell_type": "code",
   "execution_count": 1,
   "metadata": {},
   "outputs": [],
   "source": [
    "import pymysql"
   ]
  },
  {
   "cell_type": "code",
   "execution_count": 2,
   "metadata": {},
   "outputs": [],
   "source": [
    "host  = 'bikesharemysql.cwf839dt8hxr.us-east-2.rds.amazonaws.com'\n",
    "name = 'BikeShareMaster'\n",
    "password = 'MasterBikeShare2018'\n",
    "db_name = 'BikeShare'"
   ]
  },
  {
   "cell_type": "code",
   "execution_count": 7,
   "metadata": {},
   "outputs": [
    {
     "name": "stdout",
     "output_type": "stream",
     "text": [
      "https://photos.google.com/u/0/share/AF1QipMXovnh4Tulj96nRaJRzCvt-xADzuBHdPk5IBxcq8ct8bojoQRWVL-Kyxov_ZHcXQ/photo/AF1QipPzgv_c_TzGXSI8A_AA8ZyWrj2qgirtqU_YY6Dw?key=ekI4ZjlWVHB5ajYydU9kblhTTlFrWEM3XzlVcUN3\n",
      "https://photos.google.com/u/0/share/AF1QipMXovnh4Tulj96nRaJRzCvt-xADzuBHdPk5IBxcq8ct8bojoQRWVL-Kyxov_ZHcXQ/photo/AF1QipMwzE1DNfrnPhG4o9f0-4MZ2HDxp4Ul33k0Z5Ll?key=ekI4ZjlWVHB5ajYydU9kblhTTlFrWEM3XzlVcUN3\n",
      "https://photos.google.com/u/0/share/AF1QipMXovnh4Tulj96nRaJRzCvt-xADzuBHdPk5IBxcq8ct8bojoQRWVL-Kyxov_ZHcXQ/photo/AF1QipObeGBMAaZT-D8d5TGnxkPJDrULzBkIG8YajVgJ?key=ekI4ZjlWVHB5ajYydU9kblhTTlFrWEM3XzlVcUN3\n",
      "https://photos.google.com/u/0/share/AF1QipMXovnh4Tulj96nRaJRzCvt-xADzuBHdPk5IBxcq8ct8bojoQRWVL-Kyxov_ZHcXQ/photo/AF1QipN_lOK4fAQ9GLVR8hlwO9nex4RJmuU5pTqSPWf-?key=ekI4ZjlWVHB5ajYydU9kblhTTlFrWEM3XzlVcUN3\n",
      "https://photos.google.com/u/0/share/AF1QipMXovnh4Tulj96nRaJRzCvt-xADzuBHdPk5IBxcq8ct8bojoQRWVL-Kyxov_ZHcXQ/photo/AF1QipO80iyxapuz6L8k-cFrAwzPH03bQd2sNmsqeHDM?key=ekI4ZjlWVHB5ajYydU9kblhTTlFrWEM3XzlVcUN3\n",
      "https://photos.google.com/u/0/share/AF1QipMXovnh4Tulj96nRaJRzCvt-xADzuBHdPk5IBxcq8ct8bojoQRWVL-Kyxov_ZHcXQ/photo/AF1QipMb2meyPC7Vqhv-6J5jIjOeWVbmPDMBmH1s3FzZ?key=ekI4ZjlWVHB5ajYydU9kblhTTlFrWEM3XzlVcUN3\n",
      "https://photos.google.com/u/1/album/AF1QipN01IUCx4Ap1C9dU2Hiq41JOVfC854mJ5fz2nc2/photo/AF1QipM7OJlU3Cv6n668I2lcpwFxjcA2yYtcuMgzLlxj?key=CLXb_J_jzKn6-gE\n",
      "https://photos.google.com/u/0/share/AF1QipMXovnh4Tulj96nRaJRzCvt-xADzuBHdPk5IBxcq8ct8bojoQRWVL-Kyxov_ZHcXQ/photo/AF1QipOWTxeeMsl0cEDzEhd81s0ckf--YORXWi8FSOji?key=ekI4ZjlWVHB5ajYydU9kblhTTlFrWEM3XzlVcUN3\n",
      "https://photos.google.com/u/0/share/AF1QipMXovnh4Tulj96nRaJRzCvt-xADzuBHdPk5IBxcq8ct8bojoQRWVL-Kyxov_ZHcXQ/photo/AF1QipMZ0GmmcoZnIr7OfybyA1005ILSWS9swMAZkYb7?key=ekI4ZjlWVHB5ajYydU9kblhTTlFrWEM3XzlVcUN3\n",
      "https://photos.google.com/u/0/share/AF1QipMXovnh4Tulj96nRaJRzCvt-xADzuBHdPk5IBxcq8ct8bojoQRWVL-Kyxov_ZHcXQ/photo/AF1QipNB1Q5O9z-48IqC4G793X3SXK5l9LdHYrn-MWXN?key=ekI4ZjlWVHB5ajYydU9kblhTTlFrWEM3XzlVcUN3\n",
      "https://photos.google.com/u/0/share/AF1QipMXovnh4Tulj96nRaJRzCvt-xADzuBHdPk5IBxcq8ct8bojoQRWVL-Kyxov_ZHcXQ/photo/AF1QipM2VedHN1pYLPRjY4Kw4oApSYk07B0tEwQ7gk_U?key=ekI4ZjlWVHB5ajYydU9kblhTTlFrWEM3XzlVcUN3\n",
      "https://photos.google.com/u/0/share/AF1QipMXovnh4Tulj96nRaJRzCvt-xADzuBHdPk5IBxcq8ct8bojoQRWVL-Kyxov_ZHcXQ/photo/AF1QipPBz0Jo-s7N4NYMMo-LN-f7nNf9iQqT0lnkmfuB?key=ekI4ZjlWVHB5ajYydU9kblhTTlFrWEM3XzlVcUN3\n",
      "https://photos.google.com/u/0/share/AF1QipMXovnh4Tulj96nRaJRzCvt-xADzuBHdPk5IBxcq8ct8bojoQRWVL-Kyxov_ZHcXQ/photo/AF1QipO6ZSZgJo1b3gvJJA1kXAuHAdN6aJrswYBdN296?key=ekI4ZjlWVHB5ajYydU9kblhTTlFrWEM3XzlVcUN3\n",
      "https://photos.google.com/u/0/share/AF1QipMXovnh4Tulj96nRaJRzCvt-xADzuBHdPk5IBxcq8ct8bojoQRWVL-Kyxov_ZHcXQ/photo/AF1QipP9INJwIx2gUARcJGQNMe3QwK4GSsfPsE2DCHLW?key=ekI4ZjlWVHB5ajYydU9kblhTTlFrWEM3XzlVcUN3\n",
      "https://photos.google.com/u/0/share/AF1QipMXovnh4Tulj96nRaJRzCvt-xADzuBHdPk5IBxcq8ct8bojoQRWVL-Kyxov_ZHcXQ/photo/AF1QipO2K45LxDy9iutgeOAdRtgcKVdlPmb0fVQNpMO8?key=ekI4ZjlWVHB5ajYydU9kblhTTlFrWEM3XzlVcUN3\n"
     ]
    }
   ],
   "source": [
    "conn = pymysql.connect(host, user=name, passwd=password, db=db_name, connect_timeout=5)\n",
    "\n",
    "with conn.cursor() as cur:\n",
    "    \n",
    "    sql = '''\n",
    "    select b.ID_Bike, b.BikeLabel, b.Brand, p.url\n",
    "    from Bike b\n",
    "    inner join BikePhoto bp on bp.ID_Bike = b.ID_Bike\n",
    "    inner join Photo p on p.ID_Photo = bp.ID_Photo\n",
    "    '''\n",
    "    \n",
    "    cur.execute(sql)\n",
    "    rows = cur.fetchall()\n",
    "    \n",
    "    for row in rows:\n",
    "        print(row[3])"
   ]
  },
  {
   "cell_type": "code",
   "execution_count": null,
   "metadata": {},
   "outputs": [],
   "source": []
  }
 ],
 "metadata": {
  "kernelspec": {
   "display_name": "Python 3",
   "language": "python",
   "name": "python3"
  },
  "language_info": {
   "codemirror_mode": {
    "name": "ipython",
    "version": 3
   },
   "file_extension": ".py",
   "mimetype": "text/x-python",
   "name": "python",
   "nbconvert_exporter": "python",
   "pygments_lexer": "ipython3",
   "version": "3.7.0"
  }
 },
 "nbformat": 4,
 "nbformat_minor": 2
}
